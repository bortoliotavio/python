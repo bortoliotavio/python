{
  "nbformat": 4,
  "nbformat_minor": 0,
  "metadata": {
    "colab": {
      "name": "gerador_de_inserts.ipynb",
      "provenance": [],
      "collapsed_sections": [],
      "include_colab_link": true
    },
    "kernelspec": {
      "name": "python3",
      "display_name": "Python 3"
    },
    "accelerator": "GPU"
  },
  "cells": [
    {
      "cell_type": "markdown",
      "metadata": {
        "id": "view-in-github",
        "colab_type": "text"
      },
      "source": [
        "<a href=\"https://colab.research.google.com/github/bortoliotavio/python/blob/master/gerador_de_inserts.ipynb\" target=\"_parent\"><img src=\"https://colab.research.google.com/assets/colab-badge.svg\" alt=\"Open In Colab\"/></a>"
      ]
    },
    {
      "cell_type": "code",
      "metadata": {
        "id": "Zsox4D1sF_vZ",
        "colab_type": "code",
        "colab": {}
      },
      "source": [
        "import pandas as pd"
      ],
      "execution_count": 0,
      "outputs": []
    },
    {
      "cell_type": "code",
      "metadata": {
        "id": "yB82Wq_hDk10",
        "colab_type": "code",
        "colab": {}
      },
      "source": [
        "lista_de_nomes = ['Maria','Leonor','Matilde','Beatriz','Carolina','Mariana','Ana','Sofia','Francisca','Inês']"
      ],
      "execution_count": 0,
      "outputs": []
    },
    {
      "cell_type": "code",
      "metadata": {
        "id": "3xrGO86nAN32",
        "colab_type": "code",
        "colab": {}
      },
      "source": [
        "def cria_inserts(tabela,atributos,quantidade,lista_de_nomes):\n",
        "\n",
        "  \n",
        " \n",
        "\n",
        "  inserts = list()\n",
        "  for i in range(0,quantidade):\n",
        "    cpf = \"%1d%1d%1d.%1d%1d%1d.%1d%1d%1d-%1d%1d\" % (i,i,i,i,i,i,i,i,i,i,i)\n",
        "    valores = [i,lista_de_nomes[i],cpf, lista_de_nomes[i].lower()+'@uvv.br']\n",
        "    #insert = \"INSERT INTO %s (%s) VALUES (%s)\" % (tabela,atributos,valores)\n",
        "    inserts.append({'id':i,'cpf':cpf,'nome':lista_de_nomes[i],'email':lista_de_nomes[i].lower()+'@uvv.br'})\n",
        "\n",
        "  df_inserts = pd.DataFrame(columns=atributos, data=inserts)\n",
        "\n",
        "  return df_inserts\n",
        "\n"
      ],
      "execution_count": 0,
      "outputs": []
    },
    {
      "cell_type": "code",
      "metadata": {
        "id": "UwBafqD7BtdW",
        "colab_type": "code",
        "outputId": "bc4f7a9b-5905-4547-f4ad-7df1012b5690",
        "colab": {
          "base_uri": "https://localhost:8080/",
          "height": 359
        }
      },
      "source": [
        "inserts_cliente = cria_inserts('cliente',['id','nome','cpf','email'],10,lista_de_nomes)\n",
        "\n",
        "display(inserts_cliente)"
      ],
      "execution_count": 0,
      "outputs": [
        {
          "output_type": "display_data",
          "data": {
            "text/html": [
              "<div>\n",
              "<style scoped>\n",
              "    .dataframe tbody tr th:only-of-type {\n",
              "        vertical-align: middle;\n",
              "    }\n",
              "\n",
              "    .dataframe tbody tr th {\n",
              "        vertical-align: top;\n",
              "    }\n",
              "\n",
              "    .dataframe thead th {\n",
              "        text-align: right;\n",
              "    }\n",
              "</style>\n",
              "<table border=\"1\" class=\"dataframe\">\n",
              "  <thead>\n",
              "    <tr style=\"text-align: right;\">\n",
              "      <th></th>\n",
              "      <th>id</th>\n",
              "      <th>nome</th>\n",
              "      <th>cpf</th>\n",
              "      <th>email</th>\n",
              "    </tr>\n",
              "  </thead>\n",
              "  <tbody>\n",
              "    <tr>\n",
              "      <th>0</th>\n",
              "      <td>0</td>\n",
              "      <td>Maria</td>\n",
              "      <td>000.000.000-00</td>\n",
              "      <td>maria@uvv.br</td>\n",
              "    </tr>\n",
              "    <tr>\n",
              "      <th>1</th>\n",
              "      <td>1</td>\n",
              "      <td>Leonor</td>\n",
              "      <td>111.111.111-11</td>\n",
              "      <td>leonor@uvv.br</td>\n",
              "    </tr>\n",
              "    <tr>\n",
              "      <th>2</th>\n",
              "      <td>2</td>\n",
              "      <td>Matilde</td>\n",
              "      <td>222.222.222-22</td>\n",
              "      <td>matilde@uvv.br</td>\n",
              "    </tr>\n",
              "    <tr>\n",
              "      <th>3</th>\n",
              "      <td>3</td>\n",
              "      <td>Beatriz</td>\n",
              "      <td>333.333.333-33</td>\n",
              "      <td>beatriz@uvv.br</td>\n",
              "    </tr>\n",
              "    <tr>\n",
              "      <th>4</th>\n",
              "      <td>4</td>\n",
              "      <td>Carolina</td>\n",
              "      <td>444.444.444-44</td>\n",
              "      <td>carolina@uvv.br</td>\n",
              "    </tr>\n",
              "    <tr>\n",
              "      <th>5</th>\n",
              "      <td>5</td>\n",
              "      <td>Mariana</td>\n",
              "      <td>555.555.555-55</td>\n",
              "      <td>mariana@uvv.br</td>\n",
              "    </tr>\n",
              "    <tr>\n",
              "      <th>6</th>\n",
              "      <td>6</td>\n",
              "      <td>Ana</td>\n",
              "      <td>666.666.666-66</td>\n",
              "      <td>ana@uvv.br</td>\n",
              "    </tr>\n",
              "    <tr>\n",
              "      <th>7</th>\n",
              "      <td>7</td>\n",
              "      <td>Sofia</td>\n",
              "      <td>777.777.777-77</td>\n",
              "      <td>sofia@uvv.br</td>\n",
              "    </tr>\n",
              "    <tr>\n",
              "      <th>8</th>\n",
              "      <td>8</td>\n",
              "      <td>Francisca</td>\n",
              "      <td>888.888.888-88</td>\n",
              "      <td>francisca@uvv.br</td>\n",
              "    </tr>\n",
              "    <tr>\n",
              "      <th>9</th>\n",
              "      <td>9</td>\n",
              "      <td>Inês</td>\n",
              "      <td>999.999.999-99</td>\n",
              "      <td>inês@uvv.br</td>\n",
              "    </tr>\n",
              "  </tbody>\n",
              "</table>\n",
              "</div>"
            ],
            "text/plain": [
              "   id       nome             cpf             email\n",
              "0   0      Maria  000.000.000-00      maria@uvv.br\n",
              "1   1     Leonor  111.111.111-11     leonor@uvv.br\n",
              "2   2    Matilde  222.222.222-22    matilde@uvv.br\n",
              "3   3    Beatriz  333.333.333-33    beatriz@uvv.br\n",
              "4   4   Carolina  444.444.444-44   carolina@uvv.br\n",
              "5   5    Mariana  555.555.555-55    mariana@uvv.br\n",
              "6   6        Ana  666.666.666-66        ana@uvv.br\n",
              "7   7      Sofia  777.777.777-77      sofia@uvv.br\n",
              "8   8  Francisca  888.888.888-88  francisca@uvv.br\n",
              "9   9       Inês  999.999.999-99       inês@uvv.br"
            ]
          },
          "metadata": {
            "tags": []
          }
        }
      ]
    }
  ]
}